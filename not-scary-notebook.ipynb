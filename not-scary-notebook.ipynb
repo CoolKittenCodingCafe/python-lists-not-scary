{
 "cells": [
  {
   "cell_type": "markdown",
   "metadata": {},
   "source": [
    "<img src=\"files/ckcc-name.png\">"
   ]
  },
  {
   "cell_type": "markdown",
   "metadata": {},
   "source": [
    "# Python lists aren't that scary!\n",
    "\n",
    "*This notebook was created by Sabrina from the Cool Kitten Coding Café. Thanks for linking back to the [blog](https://coolkittencodingcafe.blogspot.com/) and [YouTube channel](https://www.youtube.com/channel/UCKBJP6e5AG65zn3AZzKRVgQ?view_as=subscriber) to give credit.*\n",
    "\n",
    "As I always say, the best way to learn is to really like what you're doing. Having fun, making it cute... Those are strategies that work and will make it stick. "
   ]
  },
  {
   "cell_type": "markdown",
   "metadata": {},
   "source": [
    "## Creating python lists\n",
    "\n",
    "We are going to create two python lists based on the two following pictures.\n",
    "\n",
    "1 | 2 \n",
    "- | - \n",
    "![alt](day.png) | ![alt](night.png)\n"
   ]
  },
  {
   "cell_type": "markdown",
   "metadata": {},
   "source": [
    "Note that to create a list in Python, you use the square brackets. This is a list of strings which is the reason why we use the quotation marks for each element.\n",
    "I am going to give name to those pumpkins. "
   ]
  },
  {
   "cell_type": "code",
   "execution_count": 1,
   "metadata": {},
   "outputs": [],
   "source": [
    "# Create lists\n",
    "day_pumpkin_list = ['Oogie', 'Jack']\n",
    "night_pumpkin_list = ['Slimey', 'Goofball']"
   ]
  },
  {
   "cell_type": "markdown",
   "metadata": {},
   "source": [
    "Now, if all you do is creating lists, there is no return. The lists are created but you can't see an output. Let's try printing those lists. Note that to print the lists, you use print() but you do not put any quotation marks around the name of the list."
   ]
  },
  {
   "cell_type": "code",
   "execution_count": 2,
   "metadata": {},
   "outputs": [
    {
     "name": "stdout",
     "output_type": "stream",
     "text": [
      "['Oogie', 'Jack']\n",
      "['Slimey', 'Goofball']\n"
     ]
    }
   ],
   "source": [
    "# Printing lists\n",
    "print(day_pumpkin_list)\n",
    "print(night_pumpkin_list)"
   ]
  },
  {
   "cell_type": "markdown",
   "metadata": {},
   "source": [
    "Now, it would be much clearer to print the name of the list too."
   ]
  },
  {
   "cell_type": "code",
   "execution_count": 3,
   "metadata": {},
   "outputs": [
    {
     "name": "stdout",
     "output_type": "stream",
     "text": [
      "day_pumpkin_list  ['Oogie', 'Jack']\n",
      "night_pumpkin_list ['Slimey', 'Goofball']\n"
     ]
    }
   ],
   "source": [
    "print('day_pumpkin_list ', day_pumpkin_list)\n",
    "print('night_pumpkin_list', night_pumpkin_list)"
   ]
  },
  {
   "cell_type": "markdown",
   "metadata": {},
   "source": [
    "## Now let's play around"
   ]
  },
  {
   "cell_type": "markdown",
   "metadata": {},
   "source": [
    "Let's combine those two lists into one that we call pumpkin_list."
   ]
  },
  {
   "cell_type": "code",
   "execution_count": 4,
   "metadata": {},
   "outputs": [],
   "source": [
    "# Concatenating\n",
    "pumpkin_list = day_pumpkin_list + night_pumpkin_list"
   ]
  },
  {
   "cell_type": "code",
   "execution_count": 5,
   "metadata": {},
   "outputs": [
    {
     "name": "stdout",
     "output_type": "stream",
     "text": [
      "pumpkin_list ['Oogie', 'Jack', 'Slimey', 'Goofball']\n"
     ]
    }
   ],
   "source": [
    "# Printing list\n",
    "print('pumpkin_list', pumpkin_list)"
   ]
  },
  {
   "cell_type": "markdown",
   "metadata": {},
   "source": [
    "We can check it's length, that is to say the number of elements. "
   ]
  },
  {
   "cell_type": "code",
   "execution_count": 6,
   "metadata": {},
   "outputs": [
    {
     "data": {
      "text/plain": [
       "4"
      ]
     },
     "execution_count": 6,
     "metadata": {},
     "output_type": "execute_result"
    }
   ],
   "source": [
    "len(pumpkin_list)"
   ]
  },
  {
   "cell_type": "markdown",
   "metadata": {},
   "source": [
    "I like sentences, let's use print and a prompt."
   ]
  },
  {
   "cell_type": "code",
   "execution_count": 7,
   "metadata": {},
   "outputs": [
    {
     "name": "stdout",
     "output_type": "stream",
     "text": [
      "pumpkin_list has 4 items.\n"
     ]
    }
   ],
   "source": [
    "# Printing length of the list\n",
    "print('pumpkin_list has', len(pumpkin_list), 'items.')"
   ]
  },
  {
   "cell_type": "markdown",
   "metadata": {},
   "source": [
    "What about we add a dinosaur to that list :)"
   ]
  },
  {
   "cell_type": "code",
   "execution_count": 8,
   "metadata": {},
   "outputs": [
    {
     "name": "stdout",
     "output_type": "stream",
     "text": [
      "['Oogie', 'Jack', 'Slimey', 'Goofball', 'dinosaur']\n",
      "After appending, the list has  5 items.\n"
     ]
    }
   ],
   "source": [
    "# Appending dinosaur\n",
    "pumpkin_list.append('dinosaur')\n",
    "# Printing list\n",
    "print(pumpkin_list)\n",
    "# Checking length\n",
    "print('After appending, the list has ', len(pumpkin_list), 'items.')"
   ]
  },
  {
   "cell_type": "markdown",
   "metadata": {},
   "source": [
    "Let's remove Oogie."
   ]
  },
  {
   "cell_type": "code",
   "execution_count": 9,
   "metadata": {},
   "outputs": [
    {
     "name": "stdout",
     "output_type": "stream",
     "text": [
      "['Jack', 'Slimey', 'Goofball', 'dinosaur']\n",
      "After removing Oogie, the list has  4 items.\n"
     ]
    }
   ],
   "source": [
    "# Removing Oogie\n",
    "pumpkin_list.remove('Oogie')\n",
    "# Printing list\n",
    "print(pumpkin_list)\n",
    "# Checking length\n",
    "print('After removing Oogie, the list has ', len(pumpkin_list), 'items.')\n"
   ]
  },
  {
   "cell_type": "markdown",
   "metadata": {},
   "source": [
    "Let's insert a ghost at position 3. Remember the index starts at position 0."
   ]
  },
  {
   "cell_type": "code",
   "execution_count": 10,
   "metadata": {},
   "outputs": [
    {
     "name": "stdout",
     "output_type": "stream",
     "text": [
      "['Jack', 'Slimey', 'Goofball', 'ghost', 'dinosaur']\n",
      "After inserting ghost, the list has  5 items.\n"
     ]
    }
   ],
   "source": [
    "# Inserting ghost at position 3\n",
    "pumpkin_list.insert(3, 'ghost')\n",
    "# Printing list\n",
    "print(pumpkin_list)\n",
    "# Checking length\n",
    "print('After inserting ghost, the list has ', len(pumpkin_list), 'items.')"
   ]
  },
  {
   "cell_type": "markdown",
   "metadata": {},
   "source": [
    "Let's check the position of the different elements. Remember they are strings, don't forget the quotation marks."
   ]
  },
  {
   "cell_type": "code",
   "execution_count": 11,
   "metadata": {},
   "outputs": [
    {
     "data": {
      "text/plain": [
       "0"
      ]
     },
     "execution_count": 11,
     "metadata": {},
     "output_type": "execute_result"
    }
   ],
   "source": [
    "pumpkin_list.index('Jack')"
   ]
  },
  {
   "cell_type": "markdown",
   "metadata": {},
   "source": [
    "Let's make it nice."
   ]
  },
  {
   "cell_type": "code",
   "execution_count": 12,
   "metadata": {},
   "outputs": [
    {
     "name": "stdout",
     "output_type": "stream",
     "text": [
      "Jack is at position 0\n",
      "Slimey is at position 1\n",
      "Goofball is at position 2\n",
      "ghost is at position 3\n",
      "dinosaur is at position 4\n"
     ]
    }
   ],
   "source": [
    "print('Jack is at position', pumpkin_list.index('Jack'))\n",
    "print('Slimey is at position', pumpkin_list.index('Slimey'))\n",
    "print('Goofball is at position', pumpkin_list.index('Goofball'))\n",
    "print('ghost is at position', pumpkin_list.index('ghost'))\n",
    "print('dinosaur is at position', pumpkin_list.index('dinosaur'))"
   ]
  },
  {
   "cell_type": "markdown",
   "metadata": {},
   "source": [
    "Let's pop that dinosaur from position 4. It means remove and return."
   ]
  },
  {
   "cell_type": "code",
   "execution_count": 13,
   "metadata": {},
   "outputs": [
    {
     "data": {
      "text/plain": [
       "'dinosaur'"
      ]
     },
     "execution_count": 13,
     "metadata": {},
     "output_type": "execute_result"
    }
   ],
   "source": [
    "pumpkin_list.pop(4)"
   ]
  },
  {
   "cell_type": "markdown",
   "metadata": {},
   "source": [
    "Now if we print the list again, we see it's gone."
   ]
  },
  {
   "cell_type": "code",
   "execution_count": 14,
   "metadata": {},
   "outputs": [
    {
     "name": "stdout",
     "output_type": "stream",
     "text": [
      "['Jack', 'Slimey', 'Goofball', 'ghost']\n"
     ]
    }
   ],
   "source": [
    "print(pumpkin_list)"
   ]
  },
  {
   "cell_type": "markdown",
   "metadata": {},
   "source": [
    "Let's pop that ghost too."
   ]
  },
  {
   "cell_type": "code",
   "execution_count": 15,
   "metadata": {},
   "outputs": [
    {
     "data": {
      "text/plain": [
       "'ghost'"
      ]
     },
     "execution_count": 15,
     "metadata": {},
     "output_type": "execute_result"
    }
   ],
   "source": [
    "pumpkin_list.pop(3)"
   ]
  },
  {
   "cell_type": "code",
   "execution_count": 16,
   "metadata": {},
   "outputs": [
    {
     "name": "stdout",
     "output_type": "stream",
     "text": [
      "['Jack', 'Slimey', 'Goofball']\n"
     ]
    }
   ],
   "source": [
    "print(pumpkin_list)"
   ]
  },
  {
   "cell_type": "markdown",
   "metadata": {},
   "source": [
    "See, Python lists aren't that scary. What about you try creating your own list now and use what you've just practised? I you've had enough of pumpkins and Halloween, feel free to check out my [cute Christmas List tutorial on YouTube](https://youtu.be/uHOyl458l70). Thank you, and keep on coding."
   ]
  },
  {
   "cell_type": "markdown",
   "metadata": {},
   "source": [
    "Photo credits\n",
    "\n",
    "Photo by [Yulia Chinato](https://unsplash.com/@yuliachinato?utm_source=unsplash&utm_medium=referral&utm_content=creditCopyText) on Unsplash\n",
    "Photo by [David Menidrey](https://unsplash.com/@cazault)on Unsplash"
   ]
  }
 ],
 "metadata": {
  "kernelspec": {
   "display_name": "Python 3",
   "language": "python",
   "name": "python3"
  },
  "language_info": {
   "codemirror_mode": {
    "name": "ipython",
    "version": 3
   },
   "file_extension": ".py",
   "mimetype": "text/x-python",
   "name": "python",
   "nbconvert_exporter": "python",
   "pygments_lexer": "ipython3",
   "version": "3.7.3"
  }
 },
 "nbformat": 4,
 "nbformat_minor": 2
}
